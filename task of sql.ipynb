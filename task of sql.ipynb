{
 "cells": [
  {
   "cell_type": "code",
   "execution_count": null,
   "id": "477cfdee",
   "metadata": {},
   "outputs": [],
   "source": [
    "# Ans no 01.\n",
    "#database= A database is an organized collection of structured information, or data, typically stored electronically in a computer system. A database is usually controlled by a database management system (DBMS).\n",
    "#difference between SQL and NOSQL =SQL and NoSQL differ in whether they are relational (SQL) or non-relational (NoSQL), whether their schemas are predefined or dynamic, how they scale, the type of data they include and whether they are more fit for multi-row transactions or unstructured data.\n"
   ]
  },
  {
   "cell_type": "code",
   "execution_count": null,
   "id": "9c954d67",
   "metadata": {},
   "outputs": [],
   "source": [
    "# Ans no 02.\n",
    "# DDL= DDL statements are similar to a computer programming language for defining data structures, especially database schemas. Common examples of DDL statements include CREATE, ALTER, and DROP. Today's databases incorporate DDL in any formal language that describes data, although it is considered a subset of SQL."
   ]
  },
  {
   "cell_type": "code",
   "execution_count": null,
   "id": "30097138",
   "metadata": {},
   "outputs": [],
   "source": [
    "# Ans no 03.\n",
    "# Data modification language statements (DML) INSERT, UPDATE, and DELETE. Use the INSERT command to enter data into a table. You may insert one row at a time, or select several rows from an existing table and insert them all at once. VALUES (\"5555555\", \"Jones\", \"Jane\");"
   ]
  },
  {
   "cell_type": "code",
   "execution_count": null,
   "id": "75ae24c7",
   "metadata": {},
   "outputs": [],
   "source": [
    "# Ans no04.\n",
    "\n",
    "#Select command is used to fetch the data in a set of records from a table, view or a group of tables, views by making use of SQL joins. The simplest example of a select statement where in a user wants to, retrieve all the records of a table, can be performed by using '*'\n"
   ]
  },
  {
   "cell_type": "code",
   "execution_count": null,
   "id": "9b81971e",
   "metadata": {},
   "outputs": [],
   "source": [
    "# Ans no 05.\n",
    "# A primary key generally focuses on the uniqueness of the table. It assures the value in the specific column is unique. A foreign key is generally used to build a relationship between the two tables."
   ]
  },
  {
   "cell_type": "code",
   "execution_count": null,
   "id": "aa3a233c",
   "metadata": {},
   "outputs": [],
   "source": [
    "# Ans no 06.\n",
    " import mysql.connector\n",
    "mydb = mysql.connector.connect(\n",
    "  host=\"localhost\",\n",
    "  user=\"abc\",\n",
    "  password=\"password\"\n",
    ")\n",
    "print(mydb)\n",
    "mycursor = mydb.cursor()\n",
    "mycursor.execute(\"Select * from test2.test_table\")\n",
    "for i in mycursor.fetchall():\n",
    "  print(i)\n",
    "\n",
    "\n",
    "# Syntax: cursor. execute(operation, params=None, multi=False) iterator = cursor. execute(operation, params=None, multi=True) This method executes the given database operation (query or command). The parameters found in the tuple or dictionary params are bound to the variables in the operation\n"
   ]
  },
  {
   "cell_type": "code",
   "execution_count": null,
   "id": "b4d13c00",
   "metadata": {},
   "outputs": [],
   "source": [
    "# Ans no 07.\n",
    "# FROM/JOIN: The FROM and/or JOIN clauses are executed first to determine the data of interest.\n",
    "#WHERE: The WHERE clause is executed to filter out records that do not meet the constraints.\n",
    "#GROUP BY: The GROUP BY clause is executed to group the data based on the values in one or more columns.\n"
   ]
  }
 ],
 "metadata": {
  "kernelspec": {
   "display_name": "Python 3 (ipykernel)",
   "language": "python",
   "name": "python3"
  },
  "language_info": {
   "codemirror_mode": {
    "name": "ipython",
    "version": 3
   },
   "file_extension": ".py",
   "mimetype": "text/x-python",
   "name": "python",
   "nbconvert_exporter": "python",
   "pygments_lexer": "ipython3",
   "version": "3.11.1"
  }
 },
 "nbformat": 4,
 "nbformat_minor": 5
}
